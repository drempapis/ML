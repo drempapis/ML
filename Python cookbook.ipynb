{
 "cells": [
  {
   "cell_type": "code",
   "execution_count": 1,
   "metadata": {},
   "outputs": [
    {
     "data": {
      "text/plain": [
       "-5"
      ]
     },
     "execution_count": 1,
     "metadata": {},
     "output_type": "execute_result"
    }
   ],
   "source": [
    "def minimum(*values, clip=None):\n",
    "    m = min(values)\n",
    "    if clip is not None:\n",
    "         m = clip if clip > m else m\n",
    "    return m\n",
    "\n",
    "minimum(1, 5, 2, -5, 100)"
   ]
  },
  {
   "cell_type": "code",
   "execution_count": 10,
   "metadata": {},
   "outputs": [],
   "source": [
    "def recv(maxsize, *, block):\n",
    "    'Receives a message'\n",
    "    pass\n",
    "\n",
    "recv(10, block=10)"
   ]
  },
  {
   "cell_type": "code",
   "execution_count": 11,
   "metadata": {},
   "outputs": [
    {
     "name": "stdout",
     "output_type": "stream",
     "text": [
      "Help on function recv in module __main__:\n",
      "\n",
      "recv(maxsize, *, block)\n",
      "    Receives a message\n",
      "\n"
     ]
    }
   ],
   "source": [
    "help(recv)"
   ]
  },
  {
   "cell_type": "code",
   "execution_count": 15,
   "metadata": {},
   "outputs": [
    {
     "data": {
      "text/plain": [
       "'xy'"
      ]
     },
     "execution_count": 15,
     "metadata": {},
     "output_type": "execute_result"
    }
   ],
   "source": [
    "def add(x:int, y:int) -> int:\n",
    "    return x + y\n",
    "\n",
    "add('x','y')"
   ]
  },
  {
   "cell_type": "code",
   "execution_count": 22,
   "metadata": {},
   "outputs": [
    {
     "ename": "NameError",
     "evalue": "name '_no_value' is not defined",
     "output_type": "error",
     "traceback": [
      "\u001b[0;31m---------------------------------------------------------------------------\u001b[0m",
      "\u001b[0;31mNameError\u001b[0m                                 Traceback (most recent call last)",
      "\u001b[0;32m<ipython-input-22-0ca939e6651d>\u001b[0m in \u001b[0;36m<module>\u001b[0;34m\u001b[0m\n\u001b[0;32m----> 1\u001b[0;31m \u001b[0;32mdef\u001b[0m \u001b[0mspam\u001b[0m\u001b[0;34m(\u001b[0m\u001b[0ma\u001b[0m\u001b[0;34m,\u001b[0m \u001b[0mb\u001b[0m\u001b[0;34m=\u001b[0m\u001b[0m_no_value\u001b[0m\u001b[0;34m)\u001b[0m\u001b[0;34m:\u001b[0m\u001b[0;34m\u001b[0m\u001b[0;34m\u001b[0m\u001b[0m\n\u001b[0m\u001b[1;32m      2\u001b[0m      \u001b[0;32mif\u001b[0m \u001b[0mb\u001b[0m \u001b[0;32mis\u001b[0m \u001b[0m_no_value\u001b[0m\u001b[0;34m:\u001b[0m\u001b[0;34m\u001b[0m\u001b[0;34m\u001b[0m\u001b[0m\n\u001b[1;32m      3\u001b[0m         \u001b[0mprint\u001b[0m\u001b[0;34m(\u001b[0m\u001b[0;34m'No b value supplied'\u001b[0m\u001b[0;34m)\u001b[0m\u001b[0;34m\u001b[0m\u001b[0;34m\u001b[0m\u001b[0m\n\u001b[1;32m      4\u001b[0m \u001b[0;34m\u001b[0m\u001b[0m\n\u001b[1;32m      5\u001b[0m \u001b[0mspam\u001b[0m\u001b[0;34m(\u001b[0m\u001b[0;36m1\u001b[0m\u001b[0;34m)\u001b[0m\u001b[0;34m\u001b[0m\u001b[0;34m\u001b[0m\u001b[0m\n",
      "\u001b[0;31mNameError\u001b[0m: name '_no_value' is not defined"
     ]
    }
   ],
   "source": [
    "def spam(a, b=_no_value):\n",
    "     if b is _no_value:\n",
    "        print('No b value supplied')\n",
    "  \n",
    "spam(1)"
   ]
  },
  {
   "cell_type": "code",
   "execution_count": 23,
   "metadata": {},
   "outputs": [
    {
     "name": "stdout",
     "output_type": "stream",
     "text": [
      "[0, 1, 4, 9, 16, 25, 36, 49, 64, 81, 100, 121, 144, 169, 196, 225, 256, 289, 324, 361, 400, 441, 484, 529, 576, 625, 676, 729, 784, 841, 900, 961, 1024, 1089, 1156, 1225, 1296, 1369, 1444, 1521, 1600, 1681, 1764, 1849, 1936, 2025, 2116, 2209, 2304, 2401, 2500, 2601, 2704, 2809, 2916, 3025, 3136, 3249, 3364, 3481, 3600, 3721, 3844, 3969, 4096, 4225, 4356, 4489, 4624, 4761, 4900, 5041, 5184, 5329, 5476, 5625, 5776, 5929, 6084, 6241, 6400, 6561, 6724, 6889, 7056, 7225, 7396, 7569, 7744, 7921, 8100, 8281, 8464, 8649, 8836, 9025, 9216, 9409, 9604, 9801]\n"
     ]
    }
   ],
   "source": [
    "from multiprocessing import Pool\n",
    "\n",
    "_func = None\n",
    "\n",
    "def worker_init(func):\n",
    "    global _func\n",
    "    _func = func\n",
    "  \n",
    "def worker(x):\n",
    "    return _func(x)\n",
    "\n",
    "def xmap(func, iterable, processes=None):\n",
    "    with Pool(processes, initializer=worker_init, initargs=(func,)) as p:\n",
    "        return p.map(worker, iterable)\n",
    "  \n",
    "print(xmap(lambda x: x ** 2, range(100)))"
   ]
  },
  {
   "cell_type": "code",
   "execution_count": 26,
   "metadata": {},
   "outputs": [
    {
     "data": {
      "text/plain": [
       "5"
      ]
     },
     "execution_count": 26,
     "metadata": {},
     "output_type": "execute_result"
    }
   ],
   "source": [
    "add = lambda x ,y: x + y\n",
    "add(2, 3)"
   ]
  },
  {
   "cell_type": "code",
   "execution_count": 31,
   "metadata": {},
   "outputs": [
    {
     "data": {
      "text/plain": [
       "['David Beazley', 'Brian Jones']"
      ]
     },
     "execution_count": 31,
     "metadata": {},
     "output_type": "execute_result"
    }
   ],
   "source": [
    "names = ['David Beazley', 'Brian Jones']\n",
    "sorted(names, key=lambda name: name.split()[-1].lower())"
   ]
  },
  {
   "cell_type": "code",
   "execution_count": 36,
   "metadata": {},
   "outputs": [
    {
     "name": "stdout",
     "output_type": "stream",
     "text": [
      "0\n",
      "1\n",
      "2\n",
      "3\n",
      "4\n"
     ]
    }
   ],
   "source": [
    "funcs = [lambda x, n=n: x+n for n in range(5)]\n",
    "len(funcs)\n",
    "for f in funcs: print(f(0))"
   ]
  },
  {
   "cell_type": "code",
   "execution_count": null,
   "metadata": {},
   "outputs": [],
   "source": [
    "from functools import partial\n",
    "\n",
    "def spam(a, b, c, d):\n",
    "    print(a, b, c, d)\n",
    "    \n",
    "s = partial(spam, 1, 3, 7)    \n",
    "s(2)"
   ]
  },
  {
   "cell_type": "code",
   "execution_count": 15,
   "metadata": {},
   "outputs": [
    {
     "name": "stderr",
     "output_type": "stream",
     "text": [
      "DEBUG:test:Got: 7\n"
     ]
    }
   ],
   "source": [
    "def output_result(result, log=None):\n",
    "    if log is not None:\n",
    "        log.debug(\"Got: %r\", result)\n",
    "        \n",
    "def add(x, y):\n",
    "    return x + y\n",
    "\n",
    "if __name__ == '__main__':\n",
    "    import logging\n",
    "    from multiprocessing import Pool\n",
    "    from functools import partial\n",
    "    \n",
    "    logging.basicConfig(level=logging.DEBUG)\n",
    "    log = logging.getLogger('test')\n",
    "    \n",
    "    p = Pool()\n",
    "    p.apply_async(add, (3,4), callback=partial(output_result, log=log))\n",
    "    p.close()\n",
    "    p.join()"
   ]
  },
  {
   "cell_type": "code",
   "execution_count": null,
   "metadata": {},
   "outputs": [],
   "source": [
    "from socketserver import StreamRequestHandler, TCPServer\n",
    "\n",
    "class EchoHandler(StreamRequestHandler):\n",
    "    def handle(self):\n",
    "        for line in self.rfile:\n",
    "            self.wfile.write(b'GOT:' + line)\n",
    "        \n",
    "serv = TCPServer(('', 15000), EchoHandler)\n",
    "serv.se\n",
    "#serv.serve_forever()"
   ]
  },
  {
   "cell_type": "code",
   "execution_count": null,
   "metadata": {},
   "outputs": [],
   "source": [
    "from urllib.request import urlopen\n",
    "\n",
    "class UrlTemplate:\n",
    "    def __init__(self, template):\n",
    "        self.template = template\n",
    "        \n",
    "    def open(self, **kargs):\n",
    "        return urlopen(self.template.format_map(kargs))\n",
    "    \n",
    "yahoo = UrlTemplate('http://finance.yahoo.com/d/quotes.csv?s={names}&f={fields}')\n",
    "\n",
    "for line in yahoo.open(names='IBM,AAPL,FB', fields='sl1c1v'):\n",
    "    print(line.decode('utf-8'))"
   ]
  },
  {
   "cell_type": "code",
   "execution_count": null,
   "metadata": {},
   "outputs": [],
   "source": [
    "import sys\n",
    "sys.path"
   ]
  },
  {
   "cell_type": "code",
   "execution_count": 4,
   "metadata": {},
   "outputs": [
    {
     "name": "stdout",
     "output_type": "stream",
     "text": [
      "Got: 5\n"
     ]
    }
   ],
   "source": [
    "def apply_async(func, args, *, callback):\n",
    "    result = func(*args)\n",
    "    callback(result)\n",
    "    \n",
    "def print_result(result):\n",
    "    print('Got:', result) \n",
    "\n",
    "def add(x, y):\n",
    "    return x + y\n",
    "\n",
    "apply_async(add, (2,3), callback=print_result)"
   ]
  },
  {
   "cell_type": "code",
   "execution_count": 6,
   "metadata": {},
   "outputs": [
    {
     "name": "stdout",
     "output_type": "stream",
     "text": [
      "[1] Got: 5\n"
     ]
    }
   ],
   "source": [
    "class ResultHandler:\n",
    "    def __init__(self):\n",
    "        self.sequence = 0\n",
    "    def handler(self, result):\n",
    "        self.sequence += 1\n",
    "        apply_async(add, (2, 3), callback=r.handler)\n",
    "\n",
    "r = ResultHandler()\n",
    "apply_async(add, (2, 3), callback=r.handler)"
   ]
  },
  {
   "cell_type": "code",
   "execution_count": 7,
   "metadata": {},
   "outputs": [
    {
     "name": "stdout",
     "output_type": "stream",
     "text": [
      "[2] Got: 5\n"
     ]
    }
   ],
   "source": [
    "apply_async(add, (2, 3), callback=r.handler)"
   ]
  },
  {
   "cell_type": "code",
   "execution_count": 8,
   "metadata": {},
   "outputs": [
    {
     "name": "stdout",
     "output_type": "stream",
     "text": [
      "[3] Got: 5\n"
     ]
    }
   ],
   "source": [
    "def make_handler():\n",
    "    sequence = 0\n",
    "    def handler(result):\n",
    "        nonlocal sequence\n",
    "        sequence += 1\n",
    "        apply_async(add, (2, 3), callback=r.handler) \n",
    "    return handler\n",
    "\n",
    "handler = make_handler()\n",
    "apply_async(add, (2, 3), callback=handler)"
   ]
  },
  {
   "cell_type": "code",
   "execution_count": 14,
   "metadata": {},
   "outputs": [
    {
     "name": "stdout",
     "output_type": "stream",
     "text": [
      "[1] Got: 5\n"
     ]
    }
   ],
   "source": [
    "class SequenceNo:\n",
    "    def __init__(self):\n",
    "        self.sequence = 0\n",
    "\n",
    "def handler(result, seq):\n",
    "    seq.sequence += 1\n",
    "    print('[{}] Got: {}'.format(seq.sequence, result))\n",
    "\n",
    "seq = SequenceNo()\n",
    "from functools import partial\n",
    "apply_async(add, (2, 3), callback=partial(handler, seq=seq))"
   ]
  },
  {
   "cell_type": "code",
   "execution_count": 16,
   "metadata": {},
   "outputs": [
    {
     "name": "stdout",
     "output_type": "stream",
     "text": [
      "[3] Got: 5\n"
     ]
    }
   ],
   "source": [
    "apply_async(add, (2, 3), callback=lambda r: handler(r, seq))"
   ]
  },
  {
   "cell_type": "code",
   "execution_count": 22,
   "metadata": {},
   "outputs": [
    {
     "name": "stdout",
     "output_type": "stream",
     "text": [
      "5\n",
      "helloworld\n",
      "0\n",
      "2\n",
      "4\n",
      "6\n",
      "8\n",
      "10\n",
      "12\n",
      "14\n",
      "16\n",
      "18\n",
      "Goodbye\n"
     ]
    }
   ],
   "source": [
    "from queue import Queue\n",
    "from functools import wraps\n",
    "\n",
    "class Async:\n",
    "    def __init__(self, func, args):\n",
    "        self.func = func\n",
    "        self.args = args\n",
    "\n",
    "def inlined_async(func):\n",
    "    @wraps(func)\n",
    "    def wrapper(*args): \n",
    "        f = func(*args)\n",
    "        result_queue = Queue()\n",
    "        result_queue.put(None)\n",
    "        while True:\n",
    "            result = result_queue.get()\n",
    "            try:\n",
    "                a = f.send(result)\n",
    "                apply_async(a.func, a.args, callback=result_queue.put)\n",
    "            except StopIteration:\n",
    "                break\n",
    "    return wrapper     \n",
    "\n",
    "def add(x, y):\n",
    "    return x + y\n",
    "\n",
    "@inlined_async\n",
    "def test():\n",
    "    r = yield Async(add, (2, 3))\n",
    "    print(r)\n",
    "    r = yield Async(add, ('hello', 'world'))\n",
    "    print(r)\n",
    "    for n in range(10):\n",
    "        r = yield Async(add, (n, n))\n",
    "        print(r)\n",
    "    print('Goodbye')\n",
    "\n",
    "test()    "
   ]
  },
  {
   "cell_type": "code",
   "execution_count": 25,
   "metadata": {},
   "outputs": [
    {
     "data": {
      "text/plain": [
       "10"
      ]
     },
     "execution_count": 25,
     "metadata": {},
     "output_type": "execute_result"
    }
   ],
   "source": [
    "def sample():\n",
    "    n = 0\n",
    "    \n",
    "    # Closure function\n",
    "    def func():\n",
    "        print('n=', n)\n",
    "    \n",
    "    # Accessor methods for n\n",
    "    def get_n():     \n",
    "        return n\n",
    "    \n",
    "    def set_n(value):\n",
    "        nonlocal n\n",
    "        n = value\n",
    "    \n",
    "    # Attach as function attributes\n",
    "    func.get_n = get_n\n",
    "    func.set_n = set_n\n",
    "    return func\n",
    "\n",
    "f = sample()\n",
    "f.set_n(10)\n",
    "f.get_n()"
   ]
  },
  {
   "cell_type": "code",
   "execution_count": 26,
   "metadata": {},
   "outputs": [],
   "source": [
    "import sys\n",
    "\n",
    "class ClosureInstance:\n",
    "    \n",
    "    def __init__(self, locals=None):\n",
    "        if locals is None:\n",
    "            locals = sys._getframe(1).f_locals\n",
    " \n",
    "        # Update instance dictionary with callables\n",
    "        self.__dict__.update((key,value) for key, value in locals.items() if callable(value) )\n",
    " \n",
    "    # Redirect special methods\n",
    "    def __len__(self):\n",
    "        return self.__dict__['__len__']()\n",
    "    \n",
    "    "
   ]
  },
  {
   "cell_type": "code",
   "execution_count": 31,
   "metadata": {},
   "outputs": [
    {
     "data": {
      "text/plain": [
       "Pair(3, 42)"
      ]
     },
     "execution_count": 31,
     "metadata": {},
     "output_type": "execute_result"
    }
   ],
   "source": [
    "class Pair:\n",
    "    def __init__(self, x, y):\n",
    "        self.x = x\n",
    "        self.y = y\n",
    "\n",
    "    def __repr__(self):\n",
    "        return 'Pair({0.x!r}, {0.y!r})'.format(self)\n",
    " \n",
    "    def __str__(self):\n",
    "        return '({0.x!s}, {0.y!s})'.format(self)\n",
    "    \n",
    "p = Pair(3,42)\n",
    "p"
   ]
  },
  {
   "cell_type": "code",
   "execution_count": 32,
   "metadata": {},
   "outputs": [
    {
     "name": "stdout",
     "output_type": "stream",
     "text": [
      "(3, 42)\n"
     ]
    }
   ],
   "source": [
    "print(p)"
   ]
  },
  {
   "cell_type": "code",
   "execution_count": 33,
   "metadata": {},
   "outputs": [],
   "source": [
    "from socket import socket, AF_INET, SOCK_STREAM\n",
    "\n",
    "class LazyConnection:\n",
    "    \n",
    "    def __init__(self, address, family=AF_INET, type=SOCK_STREAM):\n",
    "        self.address = address\n",
    "        self.family = AF_INET\n",
    "        self.type = SOCK_STREAM\n",
    "        self.sock = None\n",
    "    \n",
    "    def __enter__(self):\n",
    "        if self.sock is not None:\n",
    "            raise RuntimeError('Already connected')\n",
    "        self.sock = socket(self.family, self.type)\n",
    "        self.sock.connect(self.address)\n",
    "        return self.sock\n",
    "    \n",
    "    def __exit__(self, exc_ty, exc_val, tb):\n",
    "        self.sock.close()\n",
    "        self.sock = None\n",
    "        \n",
    "conn = LazyConnection(('www.python.org', 80))\n",
    "with conn as s:\n",
    "    s.send(b'GET /index.html HTTP/1.0\\r\\n')\n",
    "    s.send(b'Host: www.python.org\\r\\n')\n",
    "    s.send(b'\\r\\n')\n",
    "    resp = b''.join(iter(partial(s.recv, 8192), b''))"
   ]
  },
  {
   "cell_type": "code",
   "execution_count": 35,
   "metadata": {},
   "outputs": [
    {
     "data": {
      "text/plain": [
       "'Guido'"
      ]
     },
     "execution_count": 35,
     "metadata": {},
     "output_type": "execute_result"
    }
   ],
   "source": [
    "class Person:\n",
    "    \n",
    "    def __init__(self, first_name):\n",
    "        self.first_name = first_name\n",
    "\n",
    "    # Getter function\n",
    "    @property\n",
    "    def first_name(self):\n",
    "        return self._first_name\n",
    "\n",
    "    # Setter function\n",
    "    @first_name.setter\n",
    "    def first_name(self, value):\n",
    "        if not isinstance(value, str):\n",
    "            raise TypeError('Expected a string')\n",
    "        self._first_name = value\n",
    "\n",
    "    # Deleter function (optional)\n",
    "    @first_name.deleter\n",
    "    def first_name(self):\n",
    "        raise AttributeError(\"Can't delete attribute\")\n",
    "        \n",
    "a = Person(\"Guido\")\n",
    "a.first_name"
   ]
  },
  {
   "cell_type": "code",
   "execution_count": null,
   "metadata": {},
   "outputs": [],
   "source": []
  }
 ],
 "metadata": {
  "kernelspec": {
   "display_name": "Python 3",
   "language": "python",
   "name": "python3"
  },
  "language_info": {
   "codemirror_mode": {
    "name": "ipython",
    "version": 3
   },
   "file_extension": ".py",
   "mimetype": "text/x-python",
   "name": "python",
   "nbconvert_exporter": "python",
   "pygments_lexer": "ipython3",
   "version": "3.7.4"
  }
 },
 "nbformat": 4,
 "nbformat_minor": 2
}
